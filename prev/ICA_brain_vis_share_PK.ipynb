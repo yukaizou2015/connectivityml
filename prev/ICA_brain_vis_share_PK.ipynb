{
 "cells": [
  {
   "cell_type": "code",
   "execution_count": 1,
   "id": "d63063c3-a33c-4b01-b473-142e26c354a5",
   "metadata": {},
   "outputs": [],
   "source": [
    "import neuropythy as ny\n",
    "import nibabel as nib\n",
    "import numpy as np\n",
    "import pandas as pd\n",
    "import matplotlib as plt\n",
    "import ipyvolume as ipv"
   ]
  },
  {
   "cell_type": "markdown",
   "id": "865cc412-3b92-4be7-9b4e-078edc734199",
   "metadata": {},
   "source": [
    "Add your key and secret code in the next cell"
   ]
  },
  {
   "cell_type": "code",
   "execution_count": 2,
   "id": "c71b5eee-945c-4d00-988c-a5dc0440fd4b",
   "metadata": {},
   "outputs": [],
   "source": [
    "ny.config['hcp_credentials'] = ('key', 'secret')\n",
    "ny.config['hcp_auto_download'] = True"
   ]
  },
  {
   "cell_type": "markdown",
   "id": "3a84bccf-9386-4a08-96ec-668349701fd4",
   "metadata": {},
   "source": [
    "Set the number of ICAs you are using in the next cell (replace X with 15, 25, 50, 100 or 200)"
   ]
  },
  {
   "cell_type": "code",
   "execution_count": 3,
   "id": "1bf81eed-89f1-4e68-88c3-047435cd3b72",
   "metadata": {},
   "outputs": [],
   "source": [
    "icanum = 15"
   ]
  },
  {
   "cell_type": "code",
   "execution_count": 4,
   "id": "d4163a0c-d69a-4d7f-aef0-217d1eb5b31d",
   "metadata": {},
   "outputs": [],
   "source": [
    "sub = ny.hcp_subject(100206)\n",
    "lh_hemi_native = sub.lh\n",
    "rh_hemi_native = sub.rh\n",
    "lh_hemi_LR32k = sub.hemis['lh_LR32k']\n",
    "rh_hemi_LR32k = sub.hemis['rh_LR32k']"
   ]
  },
  {
   "cell_type": "code",
   "execution_count": 5,
   "id": "9f3d67a8-fe15-4997-9fe0-6cfdd4c52593",
   "metadata": {},
   "outputs": [],
   "source": [
    "cii_filename = '~/data/connectivityml/HCP_PTN1200/groupICA/groupICA_3T_HCP1200_MSMAll_d'+str(icanum)+'.ica/melodic_IC.dscalar.nii'\n",
    "cii_obj = ny.load(cii_filename)"
   ]
  },
  {
   "cell_type": "code",
   "execution_count": 6,
   "id": "04f5d233-d2f1-4cb0-93ff-ed5fc243835e",
   "metadata": {},
   "outputs": [],
   "source": [
    "(lh_data, rh_data, subvox_data) = ny.hcp.cifti_split(cii_obj)"
   ]
  },
  {
   "cell_type": "markdown",
   "id": "cd616c26-bbd5-4f0a-8fe5-f3e47272e01b",
   "metadata": {},
   "source": [
    "Choose a percentile--how many vertices from the original ICA map do you want to keep? (90th, 95th or 99th work well)"
   ]
  },
  {
   "cell_type": "code",
   "execution_count": 7,
   "id": "fc0e91b0-38e0-482f-a6d8-43d23dad60e5",
   "metadata": {},
   "outputs": [],
   "source": [
    "cpercentile = 95"
   ]
  },
  {
   "cell_type": "code",
   "execution_count": 8,
   "id": "5cf33eaa-264b-443d-b977-c74d41f6e0c9",
   "metadata": {},
   "outputs": [],
   "source": [
    "lh_thresh_list = list()\n",
    "for i in range(0,icanum):\n",
    "    myrow = lh_data[i]\n",
    "    lh_thresh_list.append(np.nanpercentile(myrow, cpercentile))"
   ]
  },
  {
   "cell_type": "code",
   "execution_count": 9,
   "id": "d0701536-fd63-4f8d-8085-df3f7910e7ba",
   "metadata": {},
   "outputs": [],
   "source": [
    "rh_thresh_list = list()\n",
    "for i in range(0,icanum):\n",
    "    myrow = rh_data[i]\n",
    "    #print(i, mymax, mymin, np.nanpercentile(myrow, 95))\n",
    "    rh_thresh_list.append(np.nanpercentile(myrow, cpercentile))\n",
    "    #print(np.nanpercentile(myrow, 90))\n",
    "    #plt.hist(lh_data[i])"
   ]
  },
  {
   "cell_type": "code",
   "execution_count": 10,
   "id": "dd1d2624-7cc6-48c2-a7d2-8d18514662ab",
   "metadata": {},
   "outputs": [],
   "source": [
    "lh_labels = np.zeros(32492, dtype='int')\n",
    "for (ii,myrow) in enumerate(lh_data):\n",
    "    mycutoff = lh_thresh_list[ii]\n",
    "    mylabel = ii + 1 # we want labels to start at 1, not 0\n",
    "    lh_labels[myrow > mycutoff] = mylabel"
   ]
  },
  {
   "cell_type": "code",
   "execution_count": 11,
   "id": "b53b4dbc-2923-4005-8b42-162fdd716870",
   "metadata": {},
   "outputs": [
    {
     "data": {
      "text/plain": [
       "array([ 0,  0, 13, ...,  5,  5,  5])"
      ]
     },
     "execution_count": 11,
     "metadata": {},
     "output_type": "execute_result"
    }
   ],
   "source": [
    "lh_labels"
   ]
  },
  {
   "cell_type": "code",
   "execution_count": 18,
   "id": "cbe13b6a-d164-4924-ac90-e29d98c386fe",
   "metadata": {},
   "outputs": [],
   "source": [
    "rh_labels = np.zeros(32492, dtype='int')\n",
    "# for (ii,myrow) in enumerate(lh_data):\n",
    "for (ii,myrow) in enumerate(rh_data):\n",
    "    mycutoff = rh_thresh_list[ii]\n",
    "    mylabel = ii + 1 # we want labels to start at 1, not 0\n",
    "    rh_labels[myrow > mycutoff] = mylabel"
   ]
  },
  {
   "cell_type": "code",
   "execution_count": 19,
   "id": "ad1cf332-ceeb-4e48-89a8-0f1ea9eaa148",
   "metadata": {},
   "outputs": [
    {
     "data": {
      "text/plain": [
       "array([ 2,  0, 13, ...,  5,  7,  5])"
      ]
     },
     "execution_count": 19,
     "metadata": {},
     "output_type": "execute_result"
    }
   ],
   "source": [
    "rh_labels"
   ]
  },
  {
   "cell_type": "code",
   "execution_count": 20,
   "id": "279d7137-8753-44e5-9997-65c78e1288a5",
   "metadata": {},
   "outputs": [
    {
     "data": {
      "application/vnd.jupyter.widget-view+json": {
       "model_id": "5dea7e1cd2c64dbe920b2103c193c8e4",
       "version_major": 2,
       "version_minor": 0
      },
      "text/plain": [
       "Figure(camera=PerspectiveCamera(fov=0.644570721372708, position=(0.0, -100.0, 0.0), projectionMatrix=(1.0, 0.0…"
      ]
     },
     "metadata": {},
     "output_type": "display_data"
    }
   ],
   "source": [
    "lh_hemi_LR32k = sub.hemis['lh_LR32k']\n",
    "rh_hemi_LR32k = sub.hemis['rh_LR32k']\n",
    "# We can make an ipyvolume figure to plot both hemispheres on:\n",
    "fig = ipv.figure()\n",
    "# Then plot each hemisphere using whichever ICA component we\n",
    "# want to visualize:\n",
    "ny.cortex_plot(lh_hemi_LR32k, surface='very_inflated',\n",
    "               color=lh_labels, cmap='hot', figure=fig)\n",
    "ny.cortex_plot(rh_hemi_LR32k, surface='very_inflated',\n",
    "               color=rh_labels, cmap='hot', figure=fig)"
   ]
  },
  {
   "cell_type": "code",
   "execution_count": null,
   "id": "e5b560e1-ffcd-437b-b42b-0d293d1a4ee5",
   "metadata": {},
   "outputs": [],
   "source": [
    "# Explore Gephi\n",
    "edge_df = pd.DataFrame(columns = ['Node1', 'Node2'])\n",
    "edge_df['Node1'] = node1list\n",
    "edge_df['Node2'] = node2list"
   ]
  }
 ],
 "metadata": {
  "kernelspec": {
   "display_name": "Python 3",
   "language": "python",
   "name": "python3"
  },
  "language_info": {
   "codemirror_mode": {
    "name": "ipython",
    "version": 3
   },
   "file_extension": ".py",
   "mimetype": "text/x-python",
   "name": "python",
   "nbconvert_exporter": "python",
   "pygments_lexer": "ipython3",
   "version": "3.8.10"
  }
 },
 "nbformat": 4,
 "nbformat_minor": 5
}
