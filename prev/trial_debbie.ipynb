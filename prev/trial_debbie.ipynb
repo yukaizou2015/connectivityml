{
 "cells": [
  {
   "cell_type": "code",
   "execution_count": 2,
   "metadata": {},
   "outputs": [],
   "source": [
    "import pandas as pd\n",
    "import numpy as np\n",
    "import seaborn as sns\n",
    "from sklearn.metrics import r2_score"
   ]
  },
  {
   "cell_type": "raw",
   "metadata": {},
   "source": [
    "Read in demographics file:"
   ]
  },
  {
   "cell_type": "code",
   "execution_count": 3,
   "metadata": {},
   "outputs": [],
   "source": [
    "df_dem = pd.read_csv(\"~/data/connectivityml/unrestricted_pkalra_7_26_2021_17_39_25.csv\") "
   ]
  },
  {
   "cell_type": "code",
   "execution_count": 4,
   "metadata": {},
   "outputs": [
    {
     "data": {
      "text/html": [
       "<div>\n",
       "<style scoped>\n",
       "    .dataframe tbody tr th:only-of-type {\n",
       "        vertical-align: middle;\n",
       "    }\n",
       "\n",
       "    .dataframe tbody tr th {\n",
       "        vertical-align: top;\n",
       "    }\n",
       "\n",
       "    .dataframe thead th {\n",
       "        text-align: right;\n",
       "    }\n",
       "</style>\n",
       "<table border=\"1\" class=\"dataframe\">\n",
       "  <thead>\n",
       "    <tr style=\"text-align: right;\">\n",
       "      <th></th>\n",
       "      <th>Subject</th>\n",
       "      <th>Release</th>\n",
       "      <th>Acquisition</th>\n",
       "      <th>Gender</th>\n",
       "      <th>Age</th>\n",
       "      <th>3T_Full_MR_Compl</th>\n",
       "      <th>T1_Count</th>\n",
       "      <th>T2_Count</th>\n",
       "      <th>3T_RS-fMRI_Count</th>\n",
       "      <th>3T_RS-fMRI_PctCompl</th>\n",
       "      <th>...</th>\n",
       "      <th>Noise_Comp</th>\n",
       "      <th>Odor_Unadj</th>\n",
       "      <th>Odor_AgeAdj</th>\n",
       "      <th>PainIntens_RawScore</th>\n",
       "      <th>PainInterf_Tscore</th>\n",
       "      <th>Taste_Unadj</th>\n",
       "      <th>Taste_AgeAdj</th>\n",
       "      <th>Mars_Log_Score</th>\n",
       "      <th>Mars_Errs</th>\n",
       "      <th>Mars_Final</th>\n",
       "    </tr>\n",
       "  </thead>\n",
       "  <tbody>\n",
       "    <tr>\n",
       "      <th>0</th>\n",
       "      <td>100004</td>\n",
       "      <td>S900</td>\n",
       "      <td>Q06</td>\n",
       "      <td>M</td>\n",
       "      <td>22-25</td>\n",
       "      <td>False</td>\n",
       "      <td>0</td>\n",
       "      <td>0</td>\n",
       "      <td>0</td>\n",
       "      <td>0.0</td>\n",
       "      <td>...</td>\n",
       "      <td>5.2</td>\n",
       "      <td>101.12</td>\n",
       "      <td>86.45</td>\n",
       "      <td>2.0</td>\n",
       "      <td>45.9</td>\n",
       "      <td>107.17</td>\n",
       "      <td>105.31</td>\n",
       "      <td>1.80</td>\n",
       "      <td>0.0</td>\n",
       "      <td>1.80</td>\n",
       "    </tr>\n",
       "    <tr>\n",
       "      <th>1</th>\n",
       "      <td>100206</td>\n",
       "      <td>S900</td>\n",
       "      <td>Q11</td>\n",
       "      <td>M</td>\n",
       "      <td>26-30</td>\n",
       "      <td>True</td>\n",
       "      <td>1</td>\n",
       "      <td>1</td>\n",
       "      <td>4</td>\n",
       "      <td>100.0</td>\n",
       "      <td>...</td>\n",
       "      <td>6.0</td>\n",
       "      <td>108.79</td>\n",
       "      <td>97.19</td>\n",
       "      <td>1.0</td>\n",
       "      <td>49.7</td>\n",
       "      <td>72.63</td>\n",
       "      <td>72.03</td>\n",
       "      <td>1.84</td>\n",
       "      <td>0.0</td>\n",
       "      <td>1.84</td>\n",
       "    </tr>\n",
       "    <tr>\n",
       "      <th>2</th>\n",
       "      <td>100307</td>\n",
       "      <td>Q1</td>\n",
       "      <td>Q01</td>\n",
       "      <td>F</td>\n",
       "      <td>26-30</td>\n",
       "      <td>True</td>\n",
       "      <td>1</td>\n",
       "      <td>1</td>\n",
       "      <td>4</td>\n",
       "      <td>100.0</td>\n",
       "      <td>...</td>\n",
       "      <td>3.6</td>\n",
       "      <td>101.12</td>\n",
       "      <td>86.45</td>\n",
       "      <td>0.0</td>\n",
       "      <td>38.6</td>\n",
       "      <td>71.69</td>\n",
       "      <td>71.76</td>\n",
       "      <td>1.76</td>\n",
       "      <td>0.0</td>\n",
       "      <td>1.76</td>\n",
       "    </tr>\n",
       "    <tr>\n",
       "      <th>3</th>\n",
       "      <td>100408</td>\n",
       "      <td>Q3</td>\n",
       "      <td>Q03</td>\n",
       "      <td>M</td>\n",
       "      <td>31-35</td>\n",
       "      <td>True</td>\n",
       "      <td>1</td>\n",
       "      <td>1</td>\n",
       "      <td>4</td>\n",
       "      <td>100.0</td>\n",
       "      <td>...</td>\n",
       "      <td>2.0</td>\n",
       "      <td>108.79</td>\n",
       "      <td>98.04</td>\n",
       "      <td>2.0</td>\n",
       "      <td>52.6</td>\n",
       "      <td>114.01</td>\n",
       "      <td>113.59</td>\n",
       "      <td>1.76</td>\n",
       "      <td>2.0</td>\n",
       "      <td>1.68</td>\n",
       "    </tr>\n",
       "    <tr>\n",
       "      <th>4</th>\n",
       "      <td>100610</td>\n",
       "      <td>S900</td>\n",
       "      <td>Q08</td>\n",
       "      <td>M</td>\n",
       "      <td>26-30</td>\n",
       "      <td>True</td>\n",
       "      <td>2</td>\n",
       "      <td>1</td>\n",
       "      <td>4</td>\n",
       "      <td>100.0</td>\n",
       "      <td>...</td>\n",
       "      <td>2.0</td>\n",
       "      <td>122.25</td>\n",
       "      <td>110.45</td>\n",
       "      <td>0.0</td>\n",
       "      <td>38.6</td>\n",
       "      <td>84.84</td>\n",
       "      <td>85.31</td>\n",
       "      <td>1.92</td>\n",
       "      <td>1.0</td>\n",
       "      <td>1.88</td>\n",
       "    </tr>\n",
       "  </tbody>\n",
       "</table>\n",
       "<p>5 rows × 582 columns</p>\n",
       "</div>"
      ],
      "text/plain": [
       "   Subject Release Acquisition Gender    Age  3T_Full_MR_Compl  T1_Count  \\\n",
       "0   100004    S900         Q06      M  22-25             False         0   \n",
       "1   100206    S900         Q11      M  26-30              True         1   \n",
       "2   100307      Q1         Q01      F  26-30              True         1   \n",
       "3   100408      Q3         Q03      M  31-35              True         1   \n",
       "4   100610    S900         Q08      M  26-30              True         2   \n",
       "\n",
       "   T2_Count  3T_RS-fMRI_Count  3T_RS-fMRI_PctCompl  ...  Noise_Comp  \\\n",
       "0         0                 0                  0.0  ...         5.2   \n",
       "1         1                 4                100.0  ...         6.0   \n",
       "2         1                 4                100.0  ...         3.6   \n",
       "3         1                 4                100.0  ...         2.0   \n",
       "4         1                 4                100.0  ...         2.0   \n",
       "\n",
       "   Odor_Unadj  Odor_AgeAdj  PainIntens_RawScore  PainInterf_Tscore  \\\n",
       "0      101.12        86.45                  2.0               45.9   \n",
       "1      108.79        97.19                  1.0               49.7   \n",
       "2      101.12        86.45                  0.0               38.6   \n",
       "3      108.79        98.04                  2.0               52.6   \n",
       "4      122.25       110.45                  0.0               38.6   \n",
       "\n",
       "   Taste_Unadj  Taste_AgeAdj  Mars_Log_Score  Mars_Errs  Mars_Final  \n",
       "0       107.17        105.31            1.80        0.0        1.80  \n",
       "1        72.63         72.03            1.84        0.0        1.84  \n",
       "2        71.69         71.76            1.76        0.0        1.76  \n",
       "3       114.01        113.59            1.76        2.0        1.68  \n",
       "4        84.84         85.31            1.92        1.0        1.88  \n",
       "\n",
       "[5 rows x 582 columns]"
      ]
     },
     "execution_count": 4,
     "metadata": {},
     "output_type": "execute_result"
    }
   ],
   "source": [
    "df_dem.head()"
   ]
  },
  {
   "cell_type": "code",
   "execution_count": 5,
   "metadata": {},
   "outputs": [
    {
     "name": "stdout",
     "output_type": "stream",
     "text": [
      "(1206, 582)\n",
      "(582,)\n"
     ]
    }
   ],
   "source": [
    "print(df_dem.shape)\n",
    "print(df_dem.columns.shape)\n",
    "\n",
    "#1206 subjects\n",
    "#582 demographics values"
   ]
  },
  {
   "cell_type": "code",
   "execution_count": 6,
   "metadata": {},
   "outputs": [],
   "source": [
    "#if desired for inspection, see all demographics and other items included in in demographics file\n",
    "\n",
    "#for col_name in df_dem.columns: \n",
    "    #print(col_name)"
   ]
  },
  {
   "cell_type": "raw",
   "metadata": {},
   "source": [
    "Read in partial correlations file:\n",
    "\n",
    "path to netmats2 for d100: data/connectivityml/HCP_PTN1200/netmats/3T_HCP1200_MSMAll_d100_ts2/netmats2.txt"
   ]
  },
  {
   "cell_type": "code",
   "execution_count": 7,
   "metadata": {},
   "outputs": [],
   "source": [
    "df_conn_symm = pd.read_csv(\"~/data/connectivityml/HCP_PTN1200/netmats/3T_HCP1200_MSMAll_d100_ts2/netmats2.txt\", sep=\" \", header=None) "
   ]
  },
  {
   "cell_type": "code",
   "execution_count": 14,
   "metadata": {},
   "outputs": [
    {
     "data": {
      "text/plain": [
       "(1003, 10000)"
      ]
     },
     "execution_count": 14,
     "metadata": {},
     "output_type": "execute_result"
    }
   ],
   "source": [
    "df_conn_symm.shape\n",
    "\n",
    "#1003 subjects\n",
    "#100x100 connectivity partial correlations"
   ]
  },
  {
   "cell_type": "raw",
   "metadata": {},
   "source": [
    "#Old code from Debbie trying to flatten\n",
    "\n",
    "df_conn = np.zeros((df_conn_symm.shape[0],10000))\n",
    "\n",
    "for index, row in df_conn_symm.iterrows():\n",
    "    matrix = row.values.reshape(100,100)\n",
    "    triangle = np.triu(matrix, k=1)\n",
    "    flat = triangle.flatten()\n",
    "    flat[flat != 0]\n",
    "    #df_conn[index,:] = flat\n",
    "    \n",
    "#flat.shape"
   ]
  },
  {
   "cell_type": "code",
   "execution_count": 107,
   "metadata": {},
   "outputs": [
    {
     "name": "stdout",
     "output_type": "stream",
     "text": [
      "(100, 100, 1003)\n",
      "(1003, 4950)\n"
     ]
    }
   ],
   "source": [
    "#Code from Pradyumna to delete lower triangle of connectivity matrix\n",
    "\n",
    "p = df_conn_symm.shape[0]\n",
    "N = np.sqrt(df_conn_symm.shape[1]).astype(int)\n",
    "\n",
    "mat = np.transpose(df_conn_symm.values.reshape(p,N,N),[1,2,0])\n",
    "print(mat.shape)\n",
    "indx = np.triu_indices(N,1)\n",
    "mat2 = np.transpose(mat[indx],[1,0])\n",
    "print(mat2.shape)\n",
    "\n",
    "df_conn = pd.DataFrame(data=mat2)"
   ]
  },
  {
   "cell_type": "code",
   "execution_count": 109,
   "metadata": {},
   "outputs": [
    {
     "name": "stdout",
     "output_type": "stream",
     "text": [
      "(4950,)\n",
      "(4950,)\n"
     ]
    }
   ],
   "source": [
    "print(indx[0].shape)\n",
    "print(indx[1].shape)\n",
    "\n",
    "#this means that indx[0] will have the old row coordinate at the 0-4949th position\n",
    "#and that indx[1] will have the old col coordinate at the 0-4949th position"
   ]
  },
  {
   "cell_type": "raw",
   "metadata": {},
   "source": [
    "Want:\n",
    "X: (1003,number of correlations included, eg. 10000 for d100)\n",
    "Y: (1003,1) -- the demographic we want to predict, eg. age"
   ]
  },
  {
   "cell_type": "raw",
   "metadata": {},
   "source": [
    "Read in subject ID file:\n",
    "--> want to make sure we filter the demographics and netmats file so that we only include shared participants\n",
    "--> doc says that the netmats rows correspond to the subjectids in subjectIDs.txt (from Priya)"
   ]
  },
  {
   "cell_type": "code",
   "execution_count": 24,
   "metadata": {},
   "outputs": [],
   "source": [
    "df_id = pd.read_csv(\"~/data/connectivityml/HCP_PTN1200/subjectIDs.txt\", sep=\" \", header=None) "
   ]
  },
  {
   "cell_type": "code",
   "execution_count": 25,
   "metadata": {},
   "outputs": [
    {
     "data": {
      "text/plain": [
       "(1003, 1)"
      ]
     },
     "execution_count": 25,
     "metadata": {},
     "output_type": "execute_result"
    }
   ],
   "source": [
    "df_id.shape"
   ]
  },
  {
   "cell_type": "raw",
   "metadata": {},
   "source": [
    "Create a new netmats file with subject IDs included:"
   ]
  },
  {
   "cell_type": "code",
   "execution_count": 29,
   "metadata": {},
   "outputs": [
    {
     "data": {
      "text/html": [
       "<div>\n",
       "<style scoped>\n",
       "    .dataframe tbody tr th:only-of-type {\n",
       "        vertical-align: middle;\n",
       "    }\n",
       "\n",
       "    .dataframe tbody tr th {\n",
       "        vertical-align: top;\n",
       "    }\n",
       "\n",
       "    .dataframe thead th {\n",
       "        text-align: right;\n",
       "    }\n",
       "</style>\n",
       "<table border=\"1\" class=\"dataframe\">\n",
       "  <thead>\n",
       "    <tr style=\"text-align: right;\">\n",
       "      <th></th>\n",
       "      <th>0</th>\n",
       "      <th>1</th>\n",
       "      <th>2</th>\n",
       "      <th>3</th>\n",
       "      <th>4</th>\n",
       "      <th>5</th>\n",
       "      <th>6</th>\n",
       "      <th>7</th>\n",
       "      <th>8</th>\n",
       "      <th>9</th>\n",
       "      <th>...</th>\n",
       "      <th>4940</th>\n",
       "      <th>4941</th>\n",
       "      <th>4942</th>\n",
       "      <th>4943</th>\n",
       "      <th>4944</th>\n",
       "      <th>4945</th>\n",
       "      <th>4946</th>\n",
       "      <th>4947</th>\n",
       "      <th>4948</th>\n",
       "      <th>4949</th>\n",
       "    </tr>\n",
       "  </thead>\n",
       "  <tbody>\n",
       "    <tr>\n",
       "      <th>0</th>\n",
       "      <td>0.616760</td>\n",
       "      <td>9.5727</td>\n",
       "      <td>-5.4959</td>\n",
       "      <td>0.34639</td>\n",
       "      <td>3.0090</td>\n",
       "      <td>3.2134</td>\n",
       "      <td>1.1298</td>\n",
       "      <td>1.58890</td>\n",
       "      <td>-2.33410</td>\n",
       "      <td>-2.8051</td>\n",
       "      <td>...</td>\n",
       "      <td>-1.73550</td>\n",
       "      <td>0.27223</td>\n",
       "      <td>0.951410</td>\n",
       "      <td>1.66720</td>\n",
       "      <td>1.252500</td>\n",
       "      <td>0.91888</td>\n",
       "      <td>0.14911</td>\n",
       "      <td>-0.30947</td>\n",
       "      <td>3.0171</td>\n",
       "      <td>0.26007</td>\n",
       "    </tr>\n",
       "    <tr>\n",
       "      <th>1</th>\n",
       "      <td>-0.296640</td>\n",
       "      <td>17.3170</td>\n",
       "      <td>-9.0467</td>\n",
       "      <td>-0.28723</td>\n",
       "      <td>1.3473</td>\n",
       "      <td>1.0459</td>\n",
       "      <td>1.7133</td>\n",
       "      <td>0.49141</td>\n",
       "      <td>-0.29712</td>\n",
       "      <td>-4.8876</td>\n",
       "      <td>...</td>\n",
       "      <td>-3.09790</td>\n",
       "      <td>0.88086</td>\n",
       "      <td>-0.458690</td>\n",
       "      <td>-0.40272</td>\n",
       "      <td>-0.469060</td>\n",
       "      <td>0.52597</td>\n",
       "      <td>-0.38607</td>\n",
       "      <td>1.38910</td>\n",
       "      <td>3.0958</td>\n",
       "      <td>1.29190</td>\n",
       "    </tr>\n",
       "    <tr>\n",
       "      <th>2</th>\n",
       "      <td>1.648600</td>\n",
       "      <td>6.6189</td>\n",
       "      <td>-8.8877</td>\n",
       "      <td>1.43370</td>\n",
       "      <td>1.0060</td>\n",
       "      <td>2.1167</td>\n",
       "      <td>2.4575</td>\n",
       "      <td>-0.11689</td>\n",
       "      <td>1.96460</td>\n",
       "      <td>-6.6919</td>\n",
       "      <td>...</td>\n",
       "      <td>-2.65750</td>\n",
       "      <td>2.13190</td>\n",
       "      <td>-0.002272</td>\n",
       "      <td>0.83097</td>\n",
       "      <td>-0.870420</td>\n",
       "      <td>0.23547</td>\n",
       "      <td>-1.69360</td>\n",
       "      <td>0.58013</td>\n",
       "      <td>2.8515</td>\n",
       "      <td>-2.08240</td>\n",
       "    </tr>\n",
       "    <tr>\n",
       "      <th>3</th>\n",
       "      <td>-0.902750</td>\n",
       "      <td>7.7215</td>\n",
       "      <td>-8.3907</td>\n",
       "      <td>3.31440</td>\n",
       "      <td>2.9395</td>\n",
       "      <td>3.4270</td>\n",
       "      <td>6.7093</td>\n",
       "      <td>1.36210</td>\n",
       "      <td>-2.66980</td>\n",
       "      <td>-11.3190</td>\n",
       "      <td>...</td>\n",
       "      <td>-2.78020</td>\n",
       "      <td>1.50210</td>\n",
       "      <td>0.454560</td>\n",
       "      <td>-0.29930</td>\n",
       "      <td>0.938750</td>\n",
       "      <td>-0.44967</td>\n",
       "      <td>0.46776</td>\n",
       "      <td>0.49353</td>\n",
       "      <td>2.4837</td>\n",
       "      <td>0.59513</td>\n",
       "    </tr>\n",
       "    <tr>\n",
       "      <th>4</th>\n",
       "      <td>-0.088768</td>\n",
       "      <td>9.4979</td>\n",
       "      <td>-10.4120</td>\n",
       "      <td>1.06460</td>\n",
       "      <td>4.3362</td>\n",
       "      <td>1.7206</td>\n",
       "      <td>4.5520</td>\n",
       "      <td>3.19110</td>\n",
       "      <td>-3.30900</td>\n",
       "      <td>-9.6999</td>\n",
       "      <td>...</td>\n",
       "      <td>-0.61259</td>\n",
       "      <td>0.99263</td>\n",
       "      <td>-0.897970</td>\n",
       "      <td>0.51453</td>\n",
       "      <td>-0.002975</td>\n",
       "      <td>-1.18320</td>\n",
       "      <td>-0.40380</td>\n",
       "      <td>0.56473</td>\n",
       "      <td>1.2692</td>\n",
       "      <td>1.19840</td>\n",
       "    </tr>\n",
       "  </tbody>\n",
       "</table>\n",
       "<p>5 rows × 4950 columns</p>\n",
       "</div>"
      ],
      "text/plain": [
       "       0        1        2        3       4       5       6        7     \\\n",
       "0  0.616760   9.5727  -5.4959  0.34639  3.0090  3.2134  1.1298  1.58890   \n",
       "1 -0.296640  17.3170  -9.0467 -0.28723  1.3473  1.0459  1.7133  0.49141   \n",
       "2  1.648600   6.6189  -8.8877  1.43370  1.0060  2.1167  2.4575 -0.11689   \n",
       "3 -0.902750   7.7215  -8.3907  3.31440  2.9395  3.4270  6.7093  1.36210   \n",
       "4 -0.088768   9.4979 -10.4120  1.06460  4.3362  1.7206  4.5520  3.19110   \n",
       "\n",
       "      8        9     ...     4940     4941      4942     4943      4944  \\\n",
       "0 -2.33410  -2.8051  ... -1.73550  0.27223  0.951410  1.66720  1.252500   \n",
       "1 -0.29712  -4.8876  ... -3.09790  0.88086 -0.458690 -0.40272 -0.469060   \n",
       "2  1.96460  -6.6919  ... -2.65750  2.13190 -0.002272  0.83097 -0.870420   \n",
       "3 -2.66980 -11.3190  ... -2.78020  1.50210  0.454560 -0.29930  0.938750   \n",
       "4 -3.30900  -9.6999  ... -0.61259  0.99263 -0.897970  0.51453 -0.002975   \n",
       "\n",
       "      4945     4946     4947    4948     4949  \n",
       "0  0.91888  0.14911 -0.30947  3.0171  0.26007  \n",
       "1  0.52597 -0.38607  1.38910  3.0958  1.29190  \n",
       "2  0.23547 -1.69360  0.58013  2.8515 -2.08240  \n",
       "3 -0.44967  0.46776  0.49353  2.4837  0.59513  \n",
       "4 -1.18320 -0.40380  0.56473  1.2692  1.19840  \n",
       "\n",
       "[5 rows x 4950 columns]"
      ]
     },
     "execution_count": 29,
     "metadata": {},
     "output_type": "execute_result"
    }
   ],
   "source": [
    "df_conn.head()"
   ]
  },
  {
   "cell_type": "code",
   "execution_count": 30,
   "metadata": {},
   "outputs": [
    {
     "data": {
      "text/html": [
       "<div>\n",
       "<style scoped>\n",
       "    .dataframe tbody tr th:only-of-type {\n",
       "        vertical-align: middle;\n",
       "    }\n",
       "\n",
       "    .dataframe tbody tr th {\n",
       "        vertical-align: top;\n",
       "    }\n",
       "\n",
       "    .dataframe thead th {\n",
       "        text-align: right;\n",
       "    }\n",
       "</style>\n",
       "<table border=\"1\" class=\"dataframe\">\n",
       "  <thead>\n",
       "    <tr style=\"text-align: right;\">\n",
       "      <th></th>\n",
       "      <th>Subject</th>\n",
       "    </tr>\n",
       "  </thead>\n",
       "  <tbody>\n",
       "    <tr>\n",
       "      <th>0</th>\n",
       "      <td>100206</td>\n",
       "    </tr>\n",
       "    <tr>\n",
       "      <th>1</th>\n",
       "      <td>100307</td>\n",
       "    </tr>\n",
       "    <tr>\n",
       "      <th>2</th>\n",
       "      <td>100408</td>\n",
       "    </tr>\n",
       "    <tr>\n",
       "      <th>3</th>\n",
       "      <td>100610</td>\n",
       "    </tr>\n",
       "    <tr>\n",
       "      <th>4</th>\n",
       "      <td>101006</td>\n",
       "    </tr>\n",
       "  </tbody>\n",
       "</table>\n",
       "</div>"
      ],
      "text/plain": [
       "   Subject\n",
       "0   100206\n",
       "1   100307\n",
       "2   100408\n",
       "3   100610\n",
       "4   101006"
      ]
     },
     "execution_count": 30,
     "metadata": {},
     "output_type": "execute_result"
    }
   ],
   "source": [
    "df_id.rename(columns={ df_id.columns[0]: \"Subject\" },inplace = True)\n",
    "df_id.head()"
   ]
  },
  {
   "cell_type": "code",
   "execution_count": 31,
   "metadata": {},
   "outputs": [
    {
     "name": "stdout",
     "output_type": "stream",
     "text": [
      "(1003, 4951)\n"
     ]
    },
    {
     "data": {
      "text/html": [
       "<div>\n",
       "<style scoped>\n",
       "    .dataframe tbody tr th:only-of-type {\n",
       "        vertical-align: middle;\n",
       "    }\n",
       "\n",
       "    .dataframe tbody tr th {\n",
       "        vertical-align: top;\n",
       "    }\n",
       "\n",
       "    .dataframe thead th {\n",
       "        text-align: right;\n",
       "    }\n",
       "</style>\n",
       "<table border=\"1\" class=\"dataframe\">\n",
       "  <thead>\n",
       "    <tr style=\"text-align: right;\">\n",
       "      <th></th>\n",
       "      <th>Subject</th>\n",
       "      <th>0</th>\n",
       "      <th>1</th>\n",
       "      <th>2</th>\n",
       "      <th>3</th>\n",
       "      <th>4</th>\n",
       "      <th>5</th>\n",
       "      <th>6</th>\n",
       "      <th>7</th>\n",
       "      <th>8</th>\n",
       "      <th>...</th>\n",
       "      <th>4940</th>\n",
       "      <th>4941</th>\n",
       "      <th>4942</th>\n",
       "      <th>4943</th>\n",
       "      <th>4944</th>\n",
       "      <th>4945</th>\n",
       "      <th>4946</th>\n",
       "      <th>4947</th>\n",
       "      <th>4948</th>\n",
       "      <th>4949</th>\n",
       "    </tr>\n",
       "  </thead>\n",
       "  <tbody>\n",
       "    <tr>\n",
       "      <th>0</th>\n",
       "      <td>100206</td>\n",
       "      <td>0.616760</td>\n",
       "      <td>9.5727</td>\n",
       "      <td>-5.4959</td>\n",
       "      <td>0.34639</td>\n",
       "      <td>3.0090</td>\n",
       "      <td>3.2134</td>\n",
       "      <td>1.1298</td>\n",
       "      <td>1.58890</td>\n",
       "      <td>-2.33410</td>\n",
       "      <td>...</td>\n",
       "      <td>-1.73550</td>\n",
       "      <td>0.27223</td>\n",
       "      <td>0.951410</td>\n",
       "      <td>1.66720</td>\n",
       "      <td>1.252500</td>\n",
       "      <td>0.91888</td>\n",
       "      <td>0.14911</td>\n",
       "      <td>-0.30947</td>\n",
       "      <td>3.0171</td>\n",
       "      <td>0.26007</td>\n",
       "    </tr>\n",
       "    <tr>\n",
       "      <th>1</th>\n",
       "      <td>100307</td>\n",
       "      <td>-0.296640</td>\n",
       "      <td>17.3170</td>\n",
       "      <td>-9.0467</td>\n",
       "      <td>-0.28723</td>\n",
       "      <td>1.3473</td>\n",
       "      <td>1.0459</td>\n",
       "      <td>1.7133</td>\n",
       "      <td>0.49141</td>\n",
       "      <td>-0.29712</td>\n",
       "      <td>...</td>\n",
       "      <td>-3.09790</td>\n",
       "      <td>0.88086</td>\n",
       "      <td>-0.458690</td>\n",
       "      <td>-0.40272</td>\n",
       "      <td>-0.469060</td>\n",
       "      <td>0.52597</td>\n",
       "      <td>-0.38607</td>\n",
       "      <td>1.38910</td>\n",
       "      <td>3.0958</td>\n",
       "      <td>1.29190</td>\n",
       "    </tr>\n",
       "    <tr>\n",
       "      <th>2</th>\n",
       "      <td>100408</td>\n",
       "      <td>1.648600</td>\n",
       "      <td>6.6189</td>\n",
       "      <td>-8.8877</td>\n",
       "      <td>1.43370</td>\n",
       "      <td>1.0060</td>\n",
       "      <td>2.1167</td>\n",
       "      <td>2.4575</td>\n",
       "      <td>-0.11689</td>\n",
       "      <td>1.96460</td>\n",
       "      <td>...</td>\n",
       "      <td>-2.65750</td>\n",
       "      <td>2.13190</td>\n",
       "      <td>-0.002272</td>\n",
       "      <td>0.83097</td>\n",
       "      <td>-0.870420</td>\n",
       "      <td>0.23547</td>\n",
       "      <td>-1.69360</td>\n",
       "      <td>0.58013</td>\n",
       "      <td>2.8515</td>\n",
       "      <td>-2.08240</td>\n",
       "    </tr>\n",
       "    <tr>\n",
       "      <th>3</th>\n",
       "      <td>100610</td>\n",
       "      <td>-0.902750</td>\n",
       "      <td>7.7215</td>\n",
       "      <td>-8.3907</td>\n",
       "      <td>3.31440</td>\n",
       "      <td>2.9395</td>\n",
       "      <td>3.4270</td>\n",
       "      <td>6.7093</td>\n",
       "      <td>1.36210</td>\n",
       "      <td>-2.66980</td>\n",
       "      <td>...</td>\n",
       "      <td>-2.78020</td>\n",
       "      <td>1.50210</td>\n",
       "      <td>0.454560</td>\n",
       "      <td>-0.29930</td>\n",
       "      <td>0.938750</td>\n",
       "      <td>-0.44967</td>\n",
       "      <td>0.46776</td>\n",
       "      <td>0.49353</td>\n",
       "      <td>2.4837</td>\n",
       "      <td>0.59513</td>\n",
       "    </tr>\n",
       "    <tr>\n",
       "      <th>4</th>\n",
       "      <td>101006</td>\n",
       "      <td>-0.088768</td>\n",
       "      <td>9.4979</td>\n",
       "      <td>-10.4120</td>\n",
       "      <td>1.06460</td>\n",
       "      <td>4.3362</td>\n",
       "      <td>1.7206</td>\n",
       "      <td>4.5520</td>\n",
       "      <td>3.19110</td>\n",
       "      <td>-3.30900</td>\n",
       "      <td>...</td>\n",
       "      <td>-0.61259</td>\n",
       "      <td>0.99263</td>\n",
       "      <td>-0.897970</td>\n",
       "      <td>0.51453</td>\n",
       "      <td>-0.002975</td>\n",
       "      <td>-1.18320</td>\n",
       "      <td>-0.40380</td>\n",
       "      <td>0.56473</td>\n",
       "      <td>1.2692</td>\n",
       "      <td>1.19840</td>\n",
       "    </tr>\n",
       "  </tbody>\n",
       "</table>\n",
       "<p>5 rows × 4951 columns</p>\n",
       "</div>"
      ],
      "text/plain": [
       "   Subject         0        1        2        3       4       5       6  \\\n",
       "0   100206  0.616760   9.5727  -5.4959  0.34639  3.0090  3.2134  1.1298   \n",
       "1   100307 -0.296640  17.3170  -9.0467 -0.28723  1.3473  1.0459  1.7133   \n",
       "2   100408  1.648600   6.6189  -8.8877  1.43370  1.0060  2.1167  2.4575   \n",
       "3   100610 -0.902750   7.7215  -8.3907  3.31440  2.9395  3.4270  6.7093   \n",
       "4   101006 -0.088768   9.4979 -10.4120  1.06460  4.3362  1.7206  4.5520   \n",
       "\n",
       "         7        8  ...     4940     4941      4942     4943      4944  \\\n",
       "0  1.58890 -2.33410  ... -1.73550  0.27223  0.951410  1.66720  1.252500   \n",
       "1  0.49141 -0.29712  ... -3.09790  0.88086 -0.458690 -0.40272 -0.469060   \n",
       "2 -0.11689  1.96460  ... -2.65750  2.13190 -0.002272  0.83097 -0.870420   \n",
       "3  1.36210 -2.66980  ... -2.78020  1.50210  0.454560 -0.29930  0.938750   \n",
       "4  3.19110 -3.30900  ... -0.61259  0.99263 -0.897970  0.51453 -0.002975   \n",
       "\n",
       "      4945     4946     4947    4948     4949  \n",
       "0  0.91888  0.14911 -0.30947  3.0171  0.26007  \n",
       "1  0.52597 -0.38607  1.38910  3.0958  1.29190  \n",
       "2  0.23547 -1.69360  0.58013  2.8515 -2.08240  \n",
       "3 -0.44967  0.46776  0.49353  2.4837  0.59513  \n",
       "4 -1.18320 -0.40380  0.56473  1.2692  1.19840  \n",
       "\n",
       "[5 rows x 4951 columns]"
      ]
     },
     "execution_count": 31,
     "metadata": {},
     "output_type": "execute_result"
    }
   ],
   "source": [
    "df_conn_id = pd.concat([df_id, df_conn], axis=1)\n",
    "print(df_conn_id.shape)\n",
    "df_conn_id.head()"
   ]
  },
  {
   "cell_type": "raw",
   "metadata": {},
   "source": [
    "Create new dem file with only netmats subjects, ordered in the same way:"
   ]
  },
  {
   "cell_type": "code",
   "execution_count": 32,
   "metadata": {},
   "outputs": [
    {
     "name": "stdout",
     "output_type": "stream",
     "text": [
      "(1003, 582)\n"
     ]
    },
    {
     "data": {
      "text/html": [
       "<div>\n",
       "<style scoped>\n",
       "    .dataframe tbody tr th:only-of-type {\n",
       "        vertical-align: middle;\n",
       "    }\n",
       "\n",
       "    .dataframe tbody tr th {\n",
       "        vertical-align: top;\n",
       "    }\n",
       "\n",
       "    .dataframe thead th {\n",
       "        text-align: right;\n",
       "    }\n",
       "</style>\n",
       "<table border=\"1\" class=\"dataframe\">\n",
       "  <thead>\n",
       "    <tr style=\"text-align: right;\">\n",
       "      <th></th>\n",
       "      <th>Subject</th>\n",
       "      <th>Release</th>\n",
       "      <th>Acquisition</th>\n",
       "      <th>Gender</th>\n",
       "      <th>Age</th>\n",
       "      <th>3T_Full_MR_Compl</th>\n",
       "      <th>T1_Count</th>\n",
       "      <th>T2_Count</th>\n",
       "      <th>3T_RS-fMRI_Count</th>\n",
       "      <th>3T_RS-fMRI_PctCompl</th>\n",
       "      <th>...</th>\n",
       "      <th>Noise_Comp</th>\n",
       "      <th>Odor_Unadj</th>\n",
       "      <th>Odor_AgeAdj</th>\n",
       "      <th>PainIntens_RawScore</th>\n",
       "      <th>PainInterf_Tscore</th>\n",
       "      <th>Taste_Unadj</th>\n",
       "      <th>Taste_AgeAdj</th>\n",
       "      <th>Mars_Log_Score</th>\n",
       "      <th>Mars_Errs</th>\n",
       "      <th>Mars_Final</th>\n",
       "    </tr>\n",
       "  </thead>\n",
       "  <tbody>\n",
       "    <tr>\n",
       "      <th>0</th>\n",
       "      <td>100206</td>\n",
       "      <td>S900</td>\n",
       "      <td>Q11</td>\n",
       "      <td>M</td>\n",
       "      <td>26-30</td>\n",
       "      <td>True</td>\n",
       "      <td>1</td>\n",
       "      <td>1</td>\n",
       "      <td>4</td>\n",
       "      <td>100.0</td>\n",
       "      <td>...</td>\n",
       "      <td>6.0</td>\n",
       "      <td>108.79</td>\n",
       "      <td>97.19</td>\n",
       "      <td>1.0</td>\n",
       "      <td>49.7</td>\n",
       "      <td>72.63</td>\n",
       "      <td>72.03</td>\n",
       "      <td>1.84</td>\n",
       "      <td>0.0</td>\n",
       "      <td>1.84</td>\n",
       "    </tr>\n",
       "    <tr>\n",
       "      <th>1</th>\n",
       "      <td>100307</td>\n",
       "      <td>Q1</td>\n",
       "      <td>Q01</td>\n",
       "      <td>F</td>\n",
       "      <td>26-30</td>\n",
       "      <td>True</td>\n",
       "      <td>1</td>\n",
       "      <td>1</td>\n",
       "      <td>4</td>\n",
       "      <td>100.0</td>\n",
       "      <td>...</td>\n",
       "      <td>3.6</td>\n",
       "      <td>101.12</td>\n",
       "      <td>86.45</td>\n",
       "      <td>0.0</td>\n",
       "      <td>38.6</td>\n",
       "      <td>71.69</td>\n",
       "      <td>71.76</td>\n",
       "      <td>1.76</td>\n",
       "      <td>0.0</td>\n",
       "      <td>1.76</td>\n",
       "    </tr>\n",
       "    <tr>\n",
       "      <th>2</th>\n",
       "      <td>100408</td>\n",
       "      <td>Q3</td>\n",
       "      <td>Q03</td>\n",
       "      <td>M</td>\n",
       "      <td>31-35</td>\n",
       "      <td>True</td>\n",
       "      <td>1</td>\n",
       "      <td>1</td>\n",
       "      <td>4</td>\n",
       "      <td>100.0</td>\n",
       "      <td>...</td>\n",
       "      <td>2.0</td>\n",
       "      <td>108.79</td>\n",
       "      <td>98.04</td>\n",
       "      <td>2.0</td>\n",
       "      <td>52.6</td>\n",
       "      <td>114.01</td>\n",
       "      <td>113.59</td>\n",
       "      <td>1.76</td>\n",
       "      <td>2.0</td>\n",
       "      <td>1.68</td>\n",
       "    </tr>\n",
       "    <tr>\n",
       "      <th>3</th>\n",
       "      <td>100610</td>\n",
       "      <td>S900</td>\n",
       "      <td>Q08</td>\n",
       "      <td>M</td>\n",
       "      <td>26-30</td>\n",
       "      <td>True</td>\n",
       "      <td>2</td>\n",
       "      <td>1</td>\n",
       "      <td>4</td>\n",
       "      <td>100.0</td>\n",
       "      <td>...</td>\n",
       "      <td>2.0</td>\n",
       "      <td>122.25</td>\n",
       "      <td>110.45</td>\n",
       "      <td>0.0</td>\n",
       "      <td>38.6</td>\n",
       "      <td>84.84</td>\n",
       "      <td>85.31</td>\n",
       "      <td>1.92</td>\n",
       "      <td>1.0</td>\n",
       "      <td>1.88</td>\n",
       "    </tr>\n",
       "    <tr>\n",
       "      <th>4</th>\n",
       "      <td>101006</td>\n",
       "      <td>S500</td>\n",
       "      <td>Q06</td>\n",
       "      <td>F</td>\n",
       "      <td>31-35</td>\n",
       "      <td>True</td>\n",
       "      <td>2</td>\n",
       "      <td>2</td>\n",
       "      <td>4</td>\n",
       "      <td>100.0</td>\n",
       "      <td>...</td>\n",
       "      <td>6.0</td>\n",
       "      <td>122.25</td>\n",
       "      <td>111.41</td>\n",
       "      <td>0.0</td>\n",
       "      <td>38.6</td>\n",
       "      <td>123.80</td>\n",
       "      <td>123.31</td>\n",
       "      <td>1.80</td>\n",
       "      <td>0.0</td>\n",
       "      <td>1.80</td>\n",
       "    </tr>\n",
       "  </tbody>\n",
       "</table>\n",
       "<p>5 rows × 582 columns</p>\n",
       "</div>"
      ],
      "text/plain": [
       "   Subject Release Acquisition Gender    Age  3T_Full_MR_Compl  T1_Count  \\\n",
       "0   100206    S900         Q11      M  26-30              True         1   \n",
       "1   100307      Q1         Q01      F  26-30              True         1   \n",
       "2   100408      Q3         Q03      M  31-35              True         1   \n",
       "3   100610    S900         Q08      M  26-30              True         2   \n",
       "4   101006    S500         Q06      F  31-35              True         2   \n",
       "\n",
       "   T2_Count  3T_RS-fMRI_Count  3T_RS-fMRI_PctCompl  ...  Noise_Comp  \\\n",
       "0         1                 4                100.0  ...         6.0   \n",
       "1         1                 4                100.0  ...         3.6   \n",
       "2         1                 4                100.0  ...         2.0   \n",
       "3         1                 4                100.0  ...         2.0   \n",
       "4         2                 4                100.0  ...         6.0   \n",
       "\n",
       "   Odor_Unadj  Odor_AgeAdj  PainIntens_RawScore  PainInterf_Tscore  \\\n",
       "0      108.79        97.19                  1.0               49.7   \n",
       "1      101.12        86.45                  0.0               38.6   \n",
       "2      108.79        98.04                  2.0               52.6   \n",
       "3      122.25       110.45                  0.0               38.6   \n",
       "4      122.25       111.41                  0.0               38.6   \n",
       "\n",
       "   Taste_Unadj  Taste_AgeAdj  Mars_Log_Score  Mars_Errs  Mars_Final  \n",
       "0        72.63         72.03            1.84        0.0        1.84  \n",
       "1        71.69         71.76            1.76        0.0        1.76  \n",
       "2       114.01        113.59            1.76        2.0        1.68  \n",
       "3        84.84         85.31            1.92        1.0        1.88  \n",
       "4       123.80        123.31            1.80        0.0        1.80  \n",
       "\n",
       "[5 rows x 582 columns]"
      ]
     },
     "execution_count": 32,
     "metadata": {},
     "output_type": "execute_result"
    }
   ],
   "source": [
    "df_dem_id= pd.merge_ordered(df_id, df_dem, left_by='Subject')\n",
    "print(df_dem_id.shape)\n",
    "df_dem_id.head()"
   ]
  },
  {
   "cell_type": "raw",
   "metadata": {},
   "source": [
    "Now we have two files: df_conn_id (netmats info) and df_dem_id (demographics info)\n",
    "- both only containing 1003 subjects shared between dem and netmats files\n",
    "- both ordered the same way\n",
    "- both with \"Subject\" as the first column"
   ]
  },
  {
   "cell_type": "raw",
   "metadata": {},
   "source": [
    "We can start building ML models now! \n",
    "--> keep in mind that not all demographics values exist for all participants (some are na)"
   ]
  },
  {
   "cell_type": "raw",
   "metadata": {},
   "source": [
    "We start with creating a function that can produce a x,y for a desired outcome that has lost all na rows for said outcome"
   ]
  },
  {
   "cell_type": "code",
   "execution_count": 33,
   "metadata": {},
   "outputs": [],
   "source": [
    "#function to spit out x and y for ML models depending on what we want to predict\n",
    "#filters out na values\n",
    "def define_X_y(desired_y,dem_id=df_dem_id,conn_id=df_conn_id):\n",
    "    X = conn_id[dem_id[desired_y].notnull()].drop(['Subject'], axis=1)\n",
    "    temp_y = dem_id[dem_id[desired_y].notnull()]\n",
    "    y = temp_y[desired_y]\n",
    "    print(X.shape)\n",
    "    print(temp_y.shape)\n",
    "    print(y.shape)\n",
    "    return X,y"
   ]
  },
  {
   "cell_type": "raw",
   "metadata": {},
   "source": [
    "Try with Mars_Final (to compare with Priya)"
   ]
  },
  {
   "cell_type": "code",
   "execution_count": 34,
   "metadata": {},
   "outputs": [
    {
     "name": "stdout",
     "output_type": "stream",
     "text": [
      "(998, 4950)\n",
      "(998, 582)\n",
      "(998,)\n"
     ]
    }
   ],
   "source": [
    "X_mars,y_mars = define_X_y(\"Mars_Final\")"
   ]
  },
  {
   "cell_type": "raw",
   "metadata": {},
   "source": [
    "Model 1: Linear Regression"
   ]
  },
  {
   "cell_type": "code",
   "execution_count": 35,
   "metadata": {},
   "outputs": [],
   "source": [
    "# the linear_model modules contains many other linear estimators\n",
    "from sklearn.linear_model import LinearRegression \n",
    "\n",
    "# initialize the estimator\n",
    "model_mars = LinearRegression()"
   ]
  },
  {
   "cell_type": "code",
   "execution_count": 36,
   "metadata": {},
   "outputs": [
    {
     "data": {
      "text/plain": [
       "LinearRegression()"
      ]
     },
     "execution_count": 36,
     "metadata": {},
     "output_type": "execute_result"
    }
   ],
   "source": [
    "# Fit the model, passing in X and y\n",
    "model_mars.fit(X_mars, y_mars)"
   ]
  },
  {
   "cell_type": "code",
   "execution_count": 37,
   "metadata": {},
   "outputs": [],
   "source": [
    "y_pred = model_mars.predict(X_mars)"
   ]
  },
  {
   "cell_type": "code",
   "execution_count": 38,
   "metadata": {},
   "outputs": [
    {
     "data": {
      "image/png": "[encoded data removed]",
      "text/plain": [
       "<Figure size 432x432 with 3 Axes>"
      ]
     },
     "metadata": {
      "needs_background": "light"
     },
     "output_type": "display_data"
    }
   ],
   "source": [
    "# We're using seaborn, a high-level plotting library that makes it\n",
    "# extremely easy to generate complex, elegant visualizations.\n",
    "g = sns.jointplot(x=y_pred, y=y_mars, kind=\"reg\").set_axis_labels(\"Mars (predicted)\", \"Mars (true)\")"
   ]
  },
  {
   "cell_type": "code",
   "execution_count": 39,
   "metadata": {},
   "outputs": [
    {
     "data": {
      "text/plain": [
       "1.0"
      ]
     },
     "execution_count": 39,
     "metadata": {},
     "output_type": "execute_result"
    }
   ],
   "source": [
    "# the metrics module contains predefined scoring functions\n",
    "# for commonly used metrics like r^2, MSE, etc. but you\n",
    "# can use any function you like as long as it has the\n",
    "# signature used in the r2_score call below\n",
    "from sklearn.metrics import r2_score\n",
    "\n",
    "# Generate predicted values so we can compare them with\n",
    "# the ground truth.\n",
    "y_pred = model_mars.predict(X_mars)\n",
    "\n",
    "# scoring functions are called by passing an array of\n",
    "# true scores and and an array of predicted scores as\n",
    "# inputs\n",
    "r2_score(y_mars, y_pred)"
   ]
  },
  {
   "cell_type": "code",
   "execution_count": 40,
   "metadata": {},
   "outputs": [
    {
     "data": {
      "text/plain": [
       "1.0"
      ]
     },
     "execution_count": 40,
     "metadata": {},
     "output_type": "execute_result"
    }
   ],
   "source": [
    "model_mars.score(X_mars,y_mars)"
   ]
  },
  {
   "cell_type": "code",
   "execution_count": 41,
   "metadata": {},
   "outputs": [
    {
     "name": "stdout",
     "output_type": "stream",
     "text": [
      "[-41.50068929 -36.69622371  -0.08621546  -0.07455154 -40.24283327]\n"
     ]
    }
   ],
   "source": [
    "from sklearn.model_selection import cross_val_score\n",
    "\n",
    "r2_cv = cross_val_score(model_mars, X_mars, y_mars, cv=5)\n",
    "print(r2_cv)"
   ]
  },
  {
   "cell_type": "raw",
   "metadata": {},
   "source": [
    "Try with Age as a second example:"
   ]
  },
  {
   "cell_type": "code",
   "execution_count": 42,
   "metadata": {},
   "outputs": [
    {
     "name": "stdout",
     "output_type": "stream",
     "text": [
      "(1003, 4950)\n",
      "(1003, 582)\n",
      "(1003,)\n"
     ]
    }
   ],
   "source": [
    "X_gend,y_gend = define_X_y(\"Gender\")"
   ]
  },
  {
   "cell_type": "code",
   "execution_count": 55,
   "metadata": {},
   "outputs": [],
   "source": [
    "# the linear_model modules contains many other linear estimators\n",
    "from sklearn.linear_model import LogisticRegression \n",
    "\n",
    "# initialize the estimator\n",
    "model_gend = LogisticRegression(max_iter=400)"
   ]
  },
  {
   "cell_type": "code",
   "execution_count": 56,
   "metadata": {},
   "outputs": [
    {
     "data": {
      "text/plain": [
       "1.0"
      ]
     },
     "execution_count": 56,
     "metadata": {},
     "output_type": "execute_result"
    }
   ],
   "source": [
    "model_gend.fit(X_gend,y_gend)\n",
    "model_gend.score(X_gend, y_gend)"
   ]
  },
  {
   "cell_type": "code",
   "execution_count": 59,
   "metadata": {},
   "outputs": [
    {
     "name": "stdout",
     "output_type": "stream",
     "text": [
      "[1.         0.98039216 0.96078431 0.96       0.96       0.94\n",
      " 0.98       0.96       0.98       0.98       1.         0.94\n",
      " 0.98       0.94       0.96       0.98       1.         0.98\n",
      " 0.96       1.        ]\n"
     ]
    }
   ],
   "source": [
    "r2_cv = cross_val_score(model_gend, X_gend, y_gend, cv=20)\n",
    "print(r2_cv)"
   ]
  },
  {
   "cell_type": "raw",
   "metadata": {},
   "source": [
    "Now we're moving on to random forests & SHAP values for ML explainability :) "
   ]
  },
  {
   "cell_type": "code",
   "execution_count": 87,
   "metadata": {},
   "outputs": [
    {
     "data": {
      "text/plain": [
       "RandomForestClassifier()"
      ]
     },
     "execution_count": 87,
     "metadata": {},
     "output_type": "execute_result"
    }
   ],
   "source": [
    "import matplotlib.pyplot as plt\n",
    "from sklearn.model_selection import train_test_split\n",
    "from sklearn import preprocessing\n",
    "from sklearn.ensemble import RandomForestClassifier\n",
    "from sklearn.metrics import confusion_matrix\n",
    "\n",
    "\n",
    "model_forest_gend = RandomForestClassifier()\n",
    "model_forest_gend.fit(X_gend, y_gend)"
   ]
  },
  {
   "cell_type": "code",
   "execution_count": 88,
   "metadata": {},
   "outputs": [
    {
     "name": "stdout",
     "output_type": "stream",
     "text": [
      "[0.85572139 0.7960199  0.8358209  0.795      0.815     ]\n"
     ]
    }
   ],
   "source": [
    "r2_cv = cross_val_score(model_forest_gend, X_gend, y_gend, cv=5)\n",
    "print(r2_cv)"
   ]
  },
  {
   "cell_type": "code",
   "execution_count": 154,
   "metadata": {},
   "outputs": [],
   "source": [
    "X_train, X_test, y_train, y_test = train_test_split(X_gend, y_gend, test_size = 0.2, stratify=y_gend)"
   ]
  },
  {
   "cell_type": "code",
   "execution_count": 155,
   "metadata": {},
   "outputs": [
    {
     "data": {
      "text/plain": [
       "RandomForestClassifier()"
      ]
     },
     "execution_count": 155,
     "metadata": {},
     "output_type": "execute_result"
    }
   ],
   "source": [
    "model = RandomForestClassifier()\n",
    "model.fit(X_train, y_train)"
   ]
  },
  {
   "cell_type": "code",
   "execution_count": 156,
   "metadata": {},
   "outputs": [
    {
     "name": "stdout",
     "output_type": "stream",
     "text": [
      "Test accuracy: 79.1 %\n"
     ]
    }
   ],
   "source": [
    "y_pred = model.predict(X_test)\n",
    "\n",
    "score = model.score(X_test, y_test)\n",
    "print(\"Test accuracy:\", np.round(score*100,2),\"%\") "
   ]
  },
  {
   "cell_type": "code",
   "execution_count": 157,
   "metadata": {},
   "outputs": [
    {
     "data": {
      "text/plain": [
       "array([[98,  9],\n",
       "       [33, 61]])"
      ]
     },
     "execution_count": 157,
     "metadata": {},
     "output_type": "execute_result"
    }
   ],
   "source": [
    "confusion_matrix(y_test, y_pred)\n",
    "\n",
    "#Confusion matrix: count of true negatives, false negatives, true positives and false positives. \n",
    "#Not sure which of M and F is considered positive and which negative"
   ]
  },
  {
   "cell_type": "code",
   "execution_count": 161,
   "metadata": {},
   "outputs": [
    {
     "data": {
      "text/plain": [
       "0.4675972083748754"
      ]
     },
     "execution_count": 161,
     "metadata": {},
     "output_type": "execute_result"
    }
   ],
   "source": [
    "y_gend.value_counts()['M']/1003\n",
    "\n",
    "#dataset is fairly balanced\n",
    "#confusion matrix indicates one gender is more likely misclassified"
   ]
  },
  {
   "cell_type": "code",
   "execution_count": 162,
   "metadata": {},
   "outputs": [
    {
     "data": {
      "image/png": "[encoded data removed]",
      "text/plain": [
       "<Figure size 576x684 with 1 Axes>"
      ]
     },
     "metadata": {
      "needs_background": "light"
     },
     "output_type": "display_data"
    }
   ],
   "source": [
    "import shap\n",
    "shap_values = shap.TreeExplainer(model).shap_values(X_train)\n",
    "shap.summary_plot(shap_values, X_train, plot_type=\"bar\")"
   ]
  },
  {
   "cell_type": "code",
   "execution_count": 130,
   "metadata": {},
   "outputs": [
    {
     "name": "stdout",
     "output_type": "stream",
     "text": [
      "39\n",
      "84\n"
     ]
    }
   ],
   "source": [
    "#explore the top shap predictor (3164):\n",
    "\n",
    "print(indx[0][3164])\n",
    "print(indx[1][3164])"
   ]
  },
  {
   "cell_type": "code",
   "execution_count": 170,
   "metadata": {},
   "outputs": [
    {
     "data": {
      "text/plain": [
       "array([0.00000000e+00, 0.00000000e+00, 1.77101144e-04, ...,\n",
       "       4.95400390e-05, 1.85860673e-04, 8.94704370e-05])"
      ]
     },
     "execution_count": 170,
     "metadata": {},
     "output_type": "execute_result"
    }
   ],
   "source": [
    "model.feature_importances_"
   ]
  },
  {
   "cell_type": "code",
   "execution_count": 172,
   "metadata": {},
   "outputs": [
    {
     "data": {
      "image/png": "[encoded data removed]",
      "text/plain": [
       "<Figure size 432x288 with 1 Axes>"
      ]
     },
     "metadata": {
      "needs_background": "light"
     },
     "output_type": "display_data"
    }
   ],
   "source": [
    "import matplotlib.pyplot as plt\n",
    "\n",
    "\n",
    "importances = model.feature_importances_\n",
    "#\n",
    "# Sort the feature importance in descending order\n",
    "#\n",
    "sorted_indices = np.argsort(importances)[::-1]\n",
    "\n",
    " \n",
    "plt.title('Feature Importance')\n",
    "plt.bar(range(X_train.shape[1]), importances[sorted_indices], align='center')\n",
    "plt.xticks(range(X_train.shape[1]), X_train.columns[sorted_indices], rotation=90)\n",
    "plt.tight_layout()\n",
    "plt.show()"
   ]
  },
  {
   "cell_type": "raw",
   "metadata": {},
   "source": [
    "Now let's do shap analysis for all cross validation folds:"
   ]
  },
  {
   "cell_type": "code",
   "execution_count": null,
   "metadata": {},
   "outputs": [],
   "source": []
  }
 ],
 "metadata": {
  "kernelspec": {
   "display_name": "Python 3",
   "language": "python",
   "name": "python3"
  },
  "language_info": {
   "codemirror_mode": {
    "name": "ipython",
    "version": 3
   },
   "file_extension": ".py",
   "mimetype": "text/x-python",
   "name": "python",
   "nbconvert_exporter": "python",
   "pygments_lexer": "ipython3",
   "version": "3.8.10"
  }
 },
 "nbformat": 4,
 "nbformat_minor": 4
}
