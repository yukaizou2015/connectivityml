{
 "cells": [
  {
   "cell_type": "code",
   "execution_count": 28,
   "id": "b7bfc4b7-ee3f-4918-b0c6-8ee8bc136300",
   "metadata": {},
   "outputs": [],
   "source": [
    "import numpy as np\n",
    "import pandas as pd\n",
    "import matplotlib.pyplot as plt\n",
    "\n",
    "#probably won't need all or most of these but just in case\n",
    "from sklearn.model_selection import cross_val_score\n",
    "from sklearn import metrics\n",
    "from sklearn import base\n",
    "from sklearn.pipeline import Pipeline\n",
    "from sklearn.utils import shuffle\n",
    "from sklearn.linear_model import RidgeCV\n",
    "from sklearn.linear_model import Ridge\n",
    "from sklearn.model_selection import GridSearchCV\n",
    "from sklearn.utils import shuffle\n",
    "from sklearn.tree import DecisionTreeRegressor\n",
    "from sklearn.linear_model import LinearRegression\n",
    "from sklearn.ensemble import RandomForestRegressor"
   ]
  },
  {
   "cell_type": "code",
   "execution_count": 30,
   "id": "1c8306be-14e5-4b1d-83b9-fbb6bd123604",
   "metadata": {},
   "outputs": [],
   "source": [
    "#Step 1: import the data\n",
    "#first the behavioral data--that was easy\n",
    "behav_df = pd.read_csv('data/connectivityml/unrestricted_pkalra_7_26_2021_17_39_25.csv')\n",
    "#behav_df.columns\n",
    "#behav_df.shape"
   ]
  },
  {
   "cell_type": "code",
   "execution_count": 130,
   "id": "c0b738c9-e34c-4cf7-ab5d-3b5d9eb3b3d7",
   "metadata": {},
   "outputs": [],
   "source": [
    "#choose my outcome\n",
    "mars_df = behav_df[['Subject', 'Mars_Final']]\n",
    "mars_df.head()"
   ]
  },
  {
   "cell_type": "code",
   "execution_count": 75,
   "id": "aa89ce60-f7c4-4aca-8cbb-a7ed04b66e92",
   "metadata": {},
   "outputs": [],
   "source": [
    "#load the netmats data\n",
    "netmats_mat = np.loadtxt('data/connectivityml/HCP_PTN1200/netmats/3T_HCP1200_MSMAll_d100_ts2/netmats2.txt')\n",
    "netmats_mat.shape"
   ]
  },
  {
   "cell_type": "code",
   "execution_count": 78,
   "id": "c610526f-1b93-4704-b3d0-01451319361e",
   "metadata": {},
   "outputs": [],
   "source": [
    "#The doc says that the netmats rows correspond to the subjectids in subjectIDs.txt\n",
    "subject_vec = np.loadtxt('data/connectivityml/HCP_PTN1200/subjectIDs.txt')"
   ]
  },
  {
   "cell_type": "code",
   "execution_count": 120,
   "id": "d64d0571-1c87-41dd-b46b-e115fa0c31fa",
   "metadata": {},
   "outputs": [],
   "source": [
    "#create column names for a new dataframe\n",
    "newlist = (range(0,10000))"
   ]
  },
  {
   "cell_type": "code",
   "execution_count": 121,
   "id": "f1e45cb4-e518-467f-bf91-3c1372ca6686",
   "metadata": {},
   "outputs": [],
   "source": [
    "#create the new dataframe\n",
    "newdf = pd.DataFrame(data = netmats_mat, columns = newlist)"
   ]
  },
  {
   "cell_type": "code",
   "execution_count": 131,
   "id": "1daec462-eed2-41e8-8e12-70f7433b220b",
   "metadata": {},
   "outputs": [],
   "source": [
    "#add the subjectids to the netmats data  \n",
    "newdf['Subject'] = subject_vec"
   ]
  },
  {
   "cell_type": "code",
   "execution_count": 133,
   "id": "c9982937-0b1d-4ead-a621-282e1d38dd9a",
   "metadata": {},
   "outputs": [],
   "source": [
    "#Step 2: filter the behavioral data to include only the rows that have netmats ;#make sure the X and Y are in the same order (order by participant ID)\n",
    "#I did the sorting and dropping in one step using 'merge'\n",
    "alldata = pd.DataFrame.merge(newdf, mars_df, how = 'left', on='Subject')\n",
    "#alldata.head()"
   ]
  },
  {
   "cell_type": "code",
   "execution_count": 151,
   "id": "38092d9c-e5ac-4f26-b8c9-90736222ee02",
   "metadata": {},
   "outputs": [
    {
     "data": {
      "text/html": [
       "<div>\n",
       "<style scoped>\n",
       "    .dataframe tbody tr th:only-of-type {\n",
       "        vertical-align: middle;\n",
       "    }\n",
       "\n",
       "    .dataframe tbody tr th {\n",
       "        vertical-align: top;\n",
       "    }\n",
       "\n",
       "    .dataframe thead th {\n",
       "        text-align: right;\n",
       "    }\n",
       "</style>\n",
       "<table border=\"1\" class=\"dataframe\">\n",
       "  <thead>\n",
       "    <tr style=\"text-align: right;\">\n",
       "      <th></th>\n",
       "      <th>0</th>\n",
       "      <th>1</th>\n",
       "      <th>2</th>\n",
       "      <th>3</th>\n",
       "      <th>4</th>\n",
       "      <th>5</th>\n",
       "      <th>6</th>\n",
       "      <th>7</th>\n",
       "      <th>8</th>\n",
       "      <th>9</th>\n",
       "      <th>...</th>\n",
       "      <th>9993</th>\n",
       "      <th>9994</th>\n",
       "      <th>9995</th>\n",
       "      <th>9996</th>\n",
       "      <th>9997</th>\n",
       "      <th>9998</th>\n",
       "      <th>9999</th>\n",
       "      <th>Subjects</th>\n",
       "      <th>Subject</th>\n",
       "      <th>Mars_Final</th>\n",
       "    </tr>\n",
       "  </thead>\n",
       "  <tbody>\n",
       "    <tr>\n",
       "      <th>45</th>\n",
       "      <td>0.0</td>\n",
       "      <td>-2.22950</td>\n",
       "      <td>5.5144</td>\n",
       "      <td>-11.9240</td>\n",
       "      <td>0.64044</td>\n",
       "      <td>3.61900</td>\n",
       "      <td>2.134800</td>\n",
       "      <td>2.6874</td>\n",
       "      <td>-0.26645</td>\n",
       "      <td>-2.11260</td>\n",
       "      <td>...</td>\n",
       "      <td>3.5773</td>\n",
       "      <td>5.7898</td>\n",
       "      <td>0.27630</td>\n",
       "      <td>0.549770</td>\n",
       "      <td>1.9415</td>\n",
       "      <td>2.011200</td>\n",
       "      <td>0.0</td>\n",
       "      <td>109830.0</td>\n",
       "      <td>109830.0</td>\n",
       "      <td>NaN</td>\n",
       "    </tr>\n",
       "    <tr>\n",
       "      <th>102</th>\n",
       "      <td>0.0</td>\n",
       "      <td>0.23045</td>\n",
       "      <td>16.0080</td>\n",
       "      <td>-8.4005</td>\n",
       "      <td>0.80786</td>\n",
       "      <td>3.94250</td>\n",
       "      <td>1.523000</td>\n",
       "      <td>2.0723</td>\n",
       "      <td>1.16500</td>\n",
       "      <td>-2.33400</td>\n",
       "      <td>...</td>\n",
       "      <td>2.0097</td>\n",
       "      <td>3.9894</td>\n",
       "      <td>1.09050</td>\n",
       "      <td>1.497600</td>\n",
       "      <td>2.2851</td>\n",
       "      <td>2.625900</td>\n",
       "      <td>0.0</td>\n",
       "      <td>123521.0</td>\n",
       "      <td>123521.0</td>\n",
       "      <td>NaN</td>\n",
       "    </tr>\n",
       "    <tr>\n",
       "      <th>199</th>\n",
       "      <td>0.0</td>\n",
       "      <td>2.07330</td>\n",
       "      <td>6.3682</td>\n",
       "      <td>-4.9858</td>\n",
       "      <td>-0.99638</td>\n",
       "      <td>1.46550</td>\n",
       "      <td>1.542200</td>\n",
       "      <td>1.4210</td>\n",
       "      <td>2.97560</td>\n",
       "      <td>-0.97535</td>\n",
       "      <td>...</td>\n",
       "      <td>4.6035</td>\n",
       "      <td>2.5641</td>\n",
       "      <td>-0.67743</td>\n",
       "      <td>0.096726</td>\n",
       "      <td>1.7507</td>\n",
       "      <td>0.172560</td>\n",
       "      <td>0.0</td>\n",
       "      <td>144731.0</td>\n",
       "      <td>144731.0</td>\n",
       "      <td>NaN</td>\n",
       "    </tr>\n",
       "    <tr>\n",
       "      <th>523</th>\n",
       "      <td>0.0</td>\n",
       "      <td>-0.23623</td>\n",
       "      <td>10.2490</td>\n",
       "      <td>-4.8415</td>\n",
       "      <td>-0.10994</td>\n",
       "      <td>1.05400</td>\n",
       "      <td>0.268780</td>\n",
       "      <td>4.0058</td>\n",
       "      <td>1.86480</td>\n",
       "      <td>-3.29910</td>\n",
       "      <td>...</td>\n",
       "      <td>2.2143</td>\n",
       "      <td>1.8753</td>\n",
       "      <td>0.51275</td>\n",
       "      <td>0.431410</td>\n",
       "      <td>4.0788</td>\n",
       "      <td>-0.011929</td>\n",
       "      <td>0.0</td>\n",
       "      <td>236130.0</td>\n",
       "      <td>236130.0</td>\n",
       "      <td>NaN</td>\n",
       "    </tr>\n",
       "    <tr>\n",
       "      <th>768</th>\n",
       "      <td>0.0</td>\n",
       "      <td>-0.10938</td>\n",
       "      <td>9.4727</td>\n",
       "      <td>-4.5355</td>\n",
       "      <td>2.22340</td>\n",
       "      <td>0.89865</td>\n",
       "      <td>-0.013009</td>\n",
       "      <td>1.3596</td>\n",
       "      <td>2.50130</td>\n",
       "      <td>-2.63460</td>\n",
       "      <td>...</td>\n",
       "      <td>2.8303</td>\n",
       "      <td>2.3225</td>\n",
       "      <td>2.05530</td>\n",
       "      <td>0.843440</td>\n",
       "      <td>2.5526</td>\n",
       "      <td>1.100900</td>\n",
       "      <td>0.0</td>\n",
       "      <td>614439.0</td>\n",
       "      <td>614439.0</td>\n",
       "      <td>NaN</td>\n",
       "    </tr>\n",
       "  </tbody>\n",
       "</table>\n",
       "<p>5 rows × 10003 columns</p>\n",
       "</div>"
      ],
      "text/plain": [
       "       0        1        2        3        4        5         6       7  \\\n",
       "45   0.0 -2.22950   5.5144 -11.9240  0.64044  3.61900  2.134800  2.6874   \n",
       "102  0.0  0.23045  16.0080  -8.4005  0.80786  3.94250  1.523000  2.0723   \n",
       "199  0.0  2.07330   6.3682  -4.9858 -0.99638  1.46550  1.542200  1.4210   \n",
       "523  0.0 -0.23623  10.2490  -4.8415 -0.10994  1.05400  0.268780  4.0058   \n",
       "768  0.0 -0.10938   9.4727  -4.5355  2.22340  0.89865 -0.013009  1.3596   \n",
       "\n",
       "           8        9  ...    9993    9994     9995      9996    9997  \\\n",
       "45  -0.26645 -2.11260  ...  3.5773  5.7898  0.27630  0.549770  1.9415   \n",
       "102  1.16500 -2.33400  ...  2.0097  3.9894  1.09050  1.497600  2.2851   \n",
       "199  2.97560 -0.97535  ...  4.6035  2.5641 -0.67743  0.096726  1.7507   \n",
       "523  1.86480 -3.29910  ...  2.2143  1.8753  0.51275  0.431410  4.0788   \n",
       "768  2.50130 -2.63460  ...  2.8303  2.3225  2.05530  0.843440  2.5526   \n",
       "\n",
       "         9998  9999  Subjects   Subject  Mars_Final  \n",
       "45   2.011200   0.0  109830.0  109830.0         NaN  \n",
       "102  2.625900   0.0  123521.0  123521.0         NaN  \n",
       "199  0.172560   0.0  144731.0  144731.0         NaN  \n",
       "523 -0.011929   0.0  236130.0  236130.0         NaN  \n",
       "768  1.100900   0.0  614439.0  614439.0         NaN  \n",
       "\n",
       "[5 rows x 10003 columns]"
      ]
     },
     "execution_count": 151,
     "metadata": {},
     "output_type": "execute_result"
    }
   ],
   "source": [
    "#it turns out that 5 of the participants that had resting state data DID NOT have Mars scores, so I dropped those\n",
    "#alldata[alldata['Mars_Final'].isnull()]\n",
    "alldata = alldata.dropna()"
   ]
  },
  {
   "cell_type": "code",
   "execution_count": 154,
   "id": "0ea194c3-fc1b-41c3-b6bd-61f86348567b",
   "metadata": {},
   "outputs": [],
   "source": [
    "#Finally, assign X and y!  Now we're ready to estimate\n",
    "X = alldata.loc[:,0:9999]\n",
    "y = alldata['Mars_Final']"
   ]
  },
  {
   "cell_type": "code",
   "execution_count": 159,
   "id": "2f6aa165-aeac-42ef-bf50-f003ea129b52",
   "metadata": {},
   "outputs": [],
   "source": [
    "#Step 3: Set up and run a model with cross validation\n",
    "#from sklearn.utils import shuffle\n",
    "#X_random_order, y_random_order = shuffle(Xt, y, random_state=42)\n",
    "model = LinearRegression()\n",
    "model.fit(X,y)\n",
    "y_pred = model.predict(X)"
   ]
  },
  {
   "cell_type": "code",
   "execution_count": 164,
   "id": "5cdfe089-f8ac-475a-bd50-1efd0c04fbd9",
   "metadata": {},
   "outputs": [
    {
     "name": "stdout",
     "output_type": "stream",
     "text": [
      "[-41.44016416 -36.77736124  -0.08584749  -0.07482295 -40.14937607]\n"
     ]
    },
    {
     "data": {
      "text/plain": [
       "<matplotlib.collections.PathCollection at 0x7f79abcaa610>"
      ]
     },
     "execution_count": 164,
     "metadata": {},
     "output_type": "execute_result"
    },
    {
     "data": {
      "image/png": "[encoded data removed]",
      "text/plain": [
       "<Figure size 432x288 with 1 Axes>"
      ]
     },
     "metadata": {
      "needs_background": "light"
     },
     "output_type": "display_data"
    }
   ],
   "source": [
    "#Look/visualize at the scores\n",
    "#from sklearn.model_selection import cross_val_score\n",
    "\n",
    "r2_cv = cross_val_score(est, X, y, cv=5)\n",
    "print(r2_cv)\n",
    "#looks like this is a terrible model lol!  But now we have got everything set up and can focus on model tuning and selection.  Choice of outcome could also be important\n",
    "plt.scatter(y, y_pred)\n",
    "#that doesn't look right...maybe I should have checked for outliers before estimating? I did notice some weirdly high values in netmats (z scores much greater than 3)"
   ]
  }
 ],
 "metadata": {
  "kernelspec": {
   "display_name": "Python 3",
   "language": "python",
   "name": "python3"
  },
  "language_info": {
   "codemirror_mode": {
    "name": "ipython",
    "version": 3
   },
   "file_extension": ".py",
   "mimetype": "text/x-python",
   "name": "python",
   "nbconvert_exporter": "python",
   "pygments_lexer": "ipython3",
   "version": "3.8.10"
  }
 },
 "nbformat": 4,
 "nbformat_minor": 5
}
